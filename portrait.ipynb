{
 "cells": [
  {
   "cell_type": "code",
   "execution_count": null,
   "id": "bc206780-305a-4b62-aa5e-065cd5fb770a",
   "metadata": {},
   "outputs": [
    {
     "data": {
      "application/vnd.jupyter.widget-view+json": {
       "model_id": "60d5a419a5374082a12780471ecef7ab",
       "version_major": 2,
       "version_minor": 0
      },
      "text/plain": [
       "Loading pipeline components...:   0%|          | 0/7 [00:00<?, ?it/s]"
      ]
     },
     "metadata": {},
     "output_type": "display_data"
    },
    {
     "name": "stderr",
     "output_type": "stream",
     "text": [
      "You set `add_prefix_space`. The tokenizer needs to be converted from the slow tokenizers\n"
     ]
    },
    {
     "data": {
      "application/vnd.jupyter.widget-view+json": {
       "model_id": "407903f515ea480096114236a5a32a70",
       "version_major": 2,
       "version_minor": 0
      },
      "text/plain": [
       "Loading checkpoint shards:   0%|          | 0/2 [00:00<?, ?it/s]"
      ]
     },
     "metadata": {},
     "output_type": "display_data"
    }
   ],
   "source": [
    "import torch\n",
    "from diffusers import FluxPipeline\n",
    "\n",
    "pipe = FluxPipeline.from_pretrained(\"Shakker-Labs/AWPortrait-FL\", torch_dtype=torch.bfloat16)\n",
    "pipe.to(\"cuda\")"
   ]
  },
  {
   "cell_type": "code",
   "execution_count": null,
   "id": "e9e9e46c-6038-4831-be3f-6494d57f71c6",
   "metadata": {},
   "outputs": [],
   "source": [
    "prompt = \"\"\"close up portrait, Amidst the interplay of light and shadows in a photography studio, \n",
    "a soft porn spotlight that traces the contours, highlighting a figure clad in a sleek black turtleneck. \n",
    "The garment, hugging the skin with subtle luxury, complements the Caucasian model's understated makeup, \n",
    "embodying minimalist elegance. Behind, a pale gray backdrop extends, its fine texture shimmering subtly in \n",
    "the dim light, artfully balancing the composition and focusing attention on the subject. In a palette of black, \n",
    "gray, and skin tones, simplicity intertwines with profundity, as every detail whispers untold stories.\"\"\"\n",
    "\n",
    "image = pipe(prompt,\n",
    "             num_inference_steps=24,\n",
    "             guidance_scale=3.5,\n",
    "             width=768, height=1024,\n",
    "            ).images[0]\n",
    "\n",
    "image.save(f\"example.png\")"
   ]
  },
  {
   "cell_type": "code",
   "execution_count": null,
   "id": "203ba2e1-18eb-4a82-88cc-f0a4434d2763",
   "metadata": {},
   "outputs": [],
   "source": [
    "import gc"
   ]
  },
  {
   "cell_type": "code",
   "execution_count": null,
   "id": "142c2e53-f5e7-46aa-a01f-8f1486a82732",
   "metadata": {},
   "outputs": [],
   "source": [
    "del image"
   ]
  },
  {
   "cell_type": "code",
   "execution_count": null,
   "id": "5d1d0290-2f3c-4275-b310-814f33c37169",
   "metadata": {},
   "outputs": [],
   "source": [
    "gc.collect()"
   ]
  },
  {
   "cell_type": "code",
   "execution_count": null,
   "id": "2daf2c30-097e-4610-9d19-fb776dedc931",
   "metadata": {},
   "outputs": [],
   "source": []
  }
 ],
 "metadata": {
  "kernelspec": {
   "display_name": "Python 3 (ipykernel)",
   "language": "python",
   "name": "python3"
  },
  "language_info": {
   "codemirror_mode": {
    "name": "ipython",
    "version": 3
   },
   "file_extension": ".py",
   "mimetype": "text/x-python",
   "name": "python",
   "nbconvert_exporter": "python",
   "pygments_lexer": "ipython3",
   "version": "3.11.9"
  }
 },
 "nbformat": 4,
 "nbformat_minor": 5
}
